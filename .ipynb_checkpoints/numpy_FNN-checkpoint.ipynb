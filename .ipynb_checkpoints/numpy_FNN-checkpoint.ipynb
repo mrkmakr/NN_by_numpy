{
 "cells": [
  {
   "cell_type": "code",
   "execution_count": 13,
   "metadata": {
    "collapsed": false
   },
   "outputs": [],
   "source": [
    "import numpy as np\n",
    "from sklearn.cross_validation import train_test_split\n",
    "from sklearn.datasets import load_iris\n",
    "import pandas as pd\n",
    "from sklearn.preprocessing import OneHotEncoder\n",
    "import matplotlib.pyplot as plt\n",
    "%matplotlib inline\n",
    "np.random.seed(1)"
   ]
  },
  {
   "cell_type": "code",
   "execution_count": 14,
   "metadata": {
    "collapsed": true
   },
   "outputs": [],
   "source": [
    "def sigmoid(u):\n",
    "    return 1 / (1 + np.exp(-u))\n",
    "\n",
    "def softmax(u):\n",
    "    e = np.exp(u)\n",
    "    a=np.repeat(np.sum(e,axis=1).reshape(len(e),1),3,axis=1)\n",
    "    return e / a\n",
    "\n",
    "def forward(x,W1,W2):\n",
    "    u1 = x.dot(W1)\n",
    "    z1 = sigmoid(u1)\n",
    "    u2 = z1.dot(W2)\n",
    "    y = softmax(u2)\n",
    "    return y, z1\n",
    "\n",
    "def back_propagation(x, z1, y, d ,W1 ,W2):\n",
    "    delta2 = y - d\n",
    "    grad_W2 = z1.T.dot(delta2)\n",
    "\n",
    "    sigmoid_dash = z1 * (1 - z1)\n",
    "    delta1 = delta2.dot(W2.T) * sigmoid_dash\n",
    "    grad_W1 = x.T.dot(delta1)\n",
    "\n",
    "    W2 -= learning_rate * grad_W2\n",
    "    W1 -= learning_rate * grad_W1\n",
    "    return W1,W2"
   ]
  },
  {
   "cell_type": "code",
   "execution_count": 15,
   "metadata": {
    "collapsed": false
   },
   "outputs": [],
   "source": [
    "#iris data\n",
    "iris = load_iris()\n",
    "x=pd.DataFrame(iris.data, columns=iris.feature_names).values\n",
    "y=iris.target\n",
    "y=y.reshape(-1,1)\n",
    "ohe=OneHotEncoder()\n",
    "y=ohe.fit_transform(y).toarray()\n",
    "x_train,x_test,y_train,y_test=train_test_split(x,y,train_size=0.8)"
   ]
  },
  {
   "cell_type": "code",
   "execution_count": 16,
   "metadata": {
    "collapsed": true
   },
   "outputs": [],
   "source": [
    "#initialize\n",
    "W1 = np.random.rand(4,3)\n",
    "W2 = np.random.rand(3,3)\n",
    "learning_rate = 0.0005\n",
    "ite = 5000"
   ]
  },
  {
   "cell_type": "code",
   "execution_count": 17,
   "metadata": {
    "collapsed": false,
    "scrolled": true
   },
   "outputs": [
    {
     "data": {
      "image/png": "[encoded data removed]",
      "text/plain": [
       "<matplotlib.figure.Figure at 0x1158b9c10>"
      ]
     },
     "metadata": {},
     "output_type": "display_data"
    }
   ],
   "source": [
    "#train\n",
    "acc_train_list=[]\n",
    "acc_test_list=[]\n",
    "for k in range(ite):\n",
    "    \n",
    "    #feedforward\n",
    "    y, z1 = forward(x_train,W1,W2)\n",
    "    #backpropagation\n",
    "    W1,W2 = back_propagation(x_train, z1, y, y_train,W1,W2)\n",
    "\n",
    "    #evaluation on training data\n",
    "    ans=np.argmax(y,axis=1)\n",
    "    true=np.argmax(y_train,axis=1)\n",
    "    acc_train=1.0*np.sum(ans==true)/len(ans)\n",
    "    acc_train_list.append(acc_train)\n",
    "    \n",
    "    #evaluation on test data\n",
    "    y, z1 = forward(x_test,W1,W2)\n",
    "    ans=np.argmax(y,axis=1)\n",
    "    true=np.argmax(y_test,axis=1)\n",
    "    acc_test=1.0*np.sum(ans==true)/len(ans)\n",
    "    acc_test_list.append(acc_test)\n",
    "\n",
    "plt.plot(acc_train_list,label='train')\n",
    "plt.plot(acc_test_list,label='test')\n",
    "plt.ylabel('accuracy')\n",
    "plt.xlabel('iteration')\n",
    "plt.legend()\n",
    "plt.savefig('learning_curve.png')"
   ]
  },
  {
   "cell_type": "code",
   "execution_count": null,
   "metadata": {
    "collapsed": true
   },
   "outputs": [],
   "source": []
  },
  {
   "cell_type": "code",
   "execution_count": null,
   "metadata": {
    "collapsed": true
   },
   "outputs": [],
   "source": []
  }
 ],
 "metadata": {
  "kernelspec": {
   "display_name": "Python 2",
   "language": "python",
   "name": "python2"
  },
  "language_info": {
   "codemirror_mode": {
    "name": "ipython",
    "version": 2
   },
   "file_extension": ".py",
   "mimetype": "text/x-python",
   "name": "python",
   "nbconvert_exporter": "python",
   "pygments_lexer": "ipython2",
   "version": "2.7.13"
  }
 },
 "nbformat": 4,
 "nbformat_minor": 2
}
